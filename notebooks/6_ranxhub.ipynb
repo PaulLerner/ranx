{
 "cells": [
  {
   "cell_type": "markdown",
   "metadata": {},
   "source": [
    "### Build your run card\n",
    "\n",
    "A run card is a YAML file containing your run's metadata. The metadata that you add to the run card improve its discoverability and enable certain interactions on the hub, such as indexing and tag-based filtering.\n",
    "\n",
    "A run card is divided into four sections:\n",
    "\n",
    "- __Run metadata__: how the run was computed, who computed the run, tags for indexing, and other information;\n",
    "- __Benchmark metadata__: name, dataset, split, version, and the ir-datasets id, if any;\n",
    "- __Paper metadata__: title, authors (with name and ORCID), publication date, doi, dblp URL for BibTex;\n",
    "- __Model metadata__: name, description, tags for indexing, paper title, authors (with name and ORCID), publication date, doi, dblp URL for BibTex.\n",
    "\n",
    "Here are an [empty run card](https://github.com/AmenRa/ranxhub/blob/main/files/runcard-empty.yaml) and a [filled one](https://github.com/AmenRa/ranxhub/blob/main/files/runcard-filled.yaml)."
   ]
  },
  {
   "cell_type": "markdown",
   "metadata": {},
   "source": [
    "### Share your run\n",
    "\n",
    "Once you have built the card, it's time to convert your run to the RanxHub format and share it with the community.\n",
    "\n",
    "First, you load the run and Qrels for the same queries into ranx.\n",
    "\n",
    "(ranx support several ways of doing it.  Please, see [here](https://colab.research.google.com/github/AmenRa/ranx/blob/master/notebooks/2_qrels_and_run.ipynb) for more information.)"
   ]
  },
  {
   "cell_type": "code",
   "execution_count": null,
   "metadata": {},
   "outputs": [],
   "source": [
    "from ranx import Qrels, Run\n",
    "\n",
    "qrels = Qrels.from_file(\"path-to-qrels\")\n",
    "run = Run.from_file(\"path-to-run\")"
   ]
  },
  {
   "cell_type": "markdown",
   "metadata": {},
   "source": [
    "Once imported Qrels and Run, you can proceed with the conversion process.\n",
    "\n",
    "During conversion, ranx computes scores for several metrics, and the results are stored in the ran and its card, which is automatically updated. That is why we require you to give the Qrels as input.\n",
    "\n",
    "This process should take a few minutes or less, depending on the number of queries and results.\n",
    "\n",
    "We encourage you to submit runs accounting for 1000 results per query and share runs for both validation and test sets.\n",
    "\n",
    "Once finished the process, you are ready to share your run and its card with us by [sending us](mailto:ranxhub@gmail.com) a link for download. We will then upload your run on our servers and add the model card to this website.\n",
    "\n",
    "Pretty easy, right? :)"
   ]
  },
  {
   "cell_type": "code",
   "execution_count": null,
   "metadata": {},
   "outputs": [],
   "source": [
    "from ranx import ranxhub\n",
    "\n",
    "ranxhub.save(\n",
    "    qrels=qrels,\n",
    "    run=run,\n",
    "    runcard_path=\"path/to/runcard.yaml\",\n",
    "    path=\"run_name.rh\",  # Save the run with the .rh extension\n",
    ")"
   ]
  },
  {
   "cell_type": "code",
   "execution_count": null,
   "metadata": {},
   "outputs": [],
   "source": []
  }
 ],
 "metadata": {
  "kernelspec": {
   "display_name": "Python 3.9.13 ('base')",
   "language": "python",
   "name": "python3"
  },
  "language_info": {
   "codemirror_mode": {
    "name": "ipython",
    "version": 3
   },
   "file_extension": ".py",
   "mimetype": "text/x-python",
   "name": "python",
   "nbconvert_exporter": "python",
   "pygments_lexer": "ipython3",
   "version": "3.9.13"
  },
  "orig_nbformat": 4,
  "vscode": {
   "interpreter": {
    "hash": "c11202d2846b22eec7deaf37ea813ba92a5f75b5344a4d16688175855af7948e"
   }
  }
 },
 "nbformat": 4,
 "nbformat_minor": 2
}
