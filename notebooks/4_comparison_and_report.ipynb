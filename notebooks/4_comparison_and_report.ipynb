{
 "cells": [
  {
   "cell_type": "markdown",
   "metadata": {},
   "source": [
    "In this notebook we explore the `compare` function and the `Report` class offered by `ranx`."
   ]
  },
  {
   "cell_type": "markdown",
   "metadata": {},
   "source": [
    "First of all we need to install [ranx](https://github.com/AmenRa/ranx)\n",
    "\n",
    "Mind that the first time you run any ranx' functions they may take a while as they must be compiled first"
   ]
  },
  {
   "cell_type": "code",
   "execution_count": null,
   "metadata": {},
   "outputs": [],
   "source": [
    "!pip install -U ranx"
   ]
  },
  {
   "cell_type": "markdown",
   "metadata": {},
   "source": [
    "Download the data we need"
   ]
  },
  {
   "cell_type": "code",
   "execution_count": null,
   "metadata": {},
   "outputs": [],
   "source": [
    "import os\n",
    "import requests\n",
    "\n",
    "for file in [\"qrels\", \"run_1\", \"run_2\", \"run_3\", \"run_4\", \"run_5\"]:\n",
    "    os.makedirs(\"notebooks/data\", exist_ok=True)\n",
    "\n",
    "    with open(f\"notebooks/data/{file}.trec\", \"w\") as f:\n",
    "        master = f\"https://raw.githubusercontent.com/AmenRa/ranx/master/notebooks/data/{file}.trec\"\n",
    "        f.write(requests.get(master).text)"
   ]
  },
  {
   "cell_type": "markdown",
   "metadata": {},
   "source": [
    "Compare"
   ]
  },
  {
   "cell_type": "code",
   "execution_count": null,
   "metadata": {},
   "outputs": [],
   "source": [
    "from ranx import Qrels, Run, compare"
   ]
  },
  {
   "cell_type": "code",
   "execution_count": null,
   "metadata": {},
   "outputs": [],
   "source": [
    "# Let's load qrels and runs from files\n",
    "qrels = Qrels.from_file(\"notebooks/data/qrels.trec\")\n",
    "\n",
    "run_1 = Run.from_file(\"notebooks/data/run_1.trec\")\n",
    "run_2 = Run.from_file(\"notebooks/data/run_2.trec\")\n",
    "run_3 = Run.from_file(\"notebooks/data/run_3.trec\")\n",
    "run_4 = Run.from_file(\"notebooks/data/run_4.trec\")\n",
    "run_5 = Run.from_file(\"notebooks/data/run_5.trec\")"
   ]
  },
  {
   "cell_type": "code",
   "execution_count": null,
   "metadata": {},
   "outputs": [],
   "source": [
    "# Compares different runs and performs statistical tests (Fisher's Randomization test)\n",
    "report = compare(\n",
    "    qrels,\n",
    "    runs=[run_1, run_2, run_3, run_4, run_5],\n",
    "    metrics=[\"map@100\", \"mrr@100\", \"ndcg@10\"],\n",
    "    max_p=0.01,  # P-value threshold\n",
    "    # Use `student` for Two-sided Paired Student's t-Test (fast / default),\n",
    "    # `fisher` for Fisher's Randomization Test (slow),\n",
    "    # or `tukey` for Tukey's HSD test (fast)\n",
    "    stat_test=\"student\"\n",
    ")\n",
    "\n",
    "# The comparison results are saved in a Report instance,\n",
    "# which provides handy functionalities such as tabular formatting\n",
    "# (superscripts denote statistical significance differences)\n",
    "report"
   ]
  },
  {
   "cell_type": "code",
   "execution_count": null,
   "metadata": {},
   "outputs": [],
   "source": [
    "# You can change the number of shown digits as follows\n",
    "report.rounding_digits = 4\n",
    "report"
   ]
  },
  {
   "cell_type": "code",
   "execution_count": null,
   "metadata": {},
   "outputs": [],
   "source": [
    "# You can show percentages insted of digits\n",
    "# Note that the number of shown digits is based on\n",
    "# the `rounding_digits` attribute, try changing it\n",
    "report.rounding_digits = 3\n",
    "report.show_percentages = True\n",
    "report"
   ]
  },
  {
   "cell_type": "code",
   "execution_count": null,
   "metadata": {},
   "outputs": [],
   "source": [
    "# `rounding_digits` and `show_percentages` can be passed directly when\n",
    "# calling `compare`\n",
    "report = compare(\n",
    "    qrels,\n",
    "    runs=[run_1, run_2, run_3, run_4, run_5],\n",
    "    metrics=[\"map@100\", \"mrr@100\", \"ndcg@10\"],\n",
    "    max_p=0.01,  # P-value threshold\n",
    "    rounding_digits=3,\n",
    "    show_percentages=True,\n",
    ")\n",
    "\n",
    "report"
   ]
  },
  {
   "cell_type": "code",
   "execution_count": null,
   "metadata": {},
   "outputs": [],
   "source": [
    "# A Report can also be exported as LaTeX table ready for scientific publications\n",
    "# Again you can control the number of digits and showing percentages\n",
    "report.rounding_digits = 4\n",
    "report.show_percentages = False\n",
    "\n",
    "print(report.to_latex())"
   ]
  },
  {
   "cell_type": "code",
   "execution_count": null,
   "metadata": {},
   "outputs": [],
   "source": [
    "report.rounding_digits = 3\n",
    "report.show_percentages = True\n",
    "\n",
    "print(report.to_latex())"
   ]
  },
  {
   "cell_type": "code",
   "execution_count": null,
   "metadata": {},
   "outputs": [],
   "source": [
    "# A Report also keep track of the number of win, tie, and loss\n",
    "report.win_tie_loss[(\"model_1\", \"model_2\")]"
   ]
  },
  {
   "cell_type": "code",
   "execution_count": null,
   "metadata": {},
   "outputs": [],
   "source": [
    "# You can extract a Report data and convert it to a Python Dictionary\n",
    "# or save it as JSON file\n",
    "import json  # Just for pretty printing\n",
    "\n",
    "print(json.dumps(report.to_dict(), indent=4))\n",
    "report.save(\"report.json\")"
   ]
  },
  {
   "cell_type": "code",
   "execution_count": null,
   "metadata": {},
   "outputs": [],
   "source": []
  },
  {
   "cell_type": "code",
   "execution_count": null,
   "metadata": {},
   "outputs": [],
   "source": []
  }
 ],
 "metadata": {
  "interpreter": {
   "hash": "692976b4e7dc85f192e7ff7f01132f0a9cfec5b2147f9c392e0014b728af08ff"
  },
  "kernelspec": {
   "display_name": "Python 3.7.12 ('ranx')",
   "language": "python",
   "name": "python3"
  },
  "language_info": {
   "codemirror_mode": {
    "name": "ipython",
    "version": 3
   },
   "file_extension": ".py",
   "mimetype": "text/x-python",
   "name": "python",
   "nbconvert_exporter": "python",
   "pygments_lexer": "ipython3",
   "version": "3.7.12"
  },
  "orig_nbformat": 4
 },
 "nbformat": 4,
 "nbformat_minor": 2
}
